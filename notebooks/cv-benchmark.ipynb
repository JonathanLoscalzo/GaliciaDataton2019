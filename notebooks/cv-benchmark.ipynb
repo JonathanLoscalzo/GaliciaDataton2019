{
 "cells": [
  {
   "cell_type": "code",
   "execution_count": 163,
   "metadata": {
    "_cell_guid": "b1076dfc-b9ad-4769-8c92-a6c4dae69d19",
    "_uuid": "8f2839f25d086af736a60e9eeb907d3b93b6e0e5"
   },
   "outputs": [],
   "source": [
    "import numpy as np\n",
    "import pandas as pd\n",
    "\n",
    "from sklearn import model_selection\n",
    "from sklearn.metrics import roc_auc_score\n",
    "\n",
    "import matplotlib.pyplot as plt\n",
    "import seaborn as sns\n",
    "\n",
    "%matplotlib inline"
   ]
  },
  {
   "cell_type": "code",
   "execution_count": 81,
   "metadata": {
    "_cell_guid": "79c7e3d0-c299-4dcb-8224-4455121ee9b0",
    "_uuid": "d629ff2d2480ee46fbb7e2d37f6b5fab8052498a"
   },
   "outputs": [
    {
     "name": "stderr",
     "output_type": "stream",
     "text": [
      "/home/jloscalzo/.local/lib/python3.6/site-packages/ipykernel_launcher.py:4: FutureWarning: Sorting because non-concatenation axis is not aligned. A future version\n",
      "of pandas will change to not sort by default.\n",
      "\n",
      "To accept the future behavior, pass 'sort=False'.\n",
      "\n",
      "To retain the current behavior and silence the warning, pass 'sort=True'.\n",
      "\n",
      "  after removing the cwd from sys.path.\n"
     ]
    }
   ],
   "source": [
    "data = pd.concat([\n",
    "    pd.read_csv(\"../input/pageviews.zip\", parse_dates=[\"FEC_EVENT\"]),\n",
    "    pd.read_csv(\"../input/pageviews_complemento.zip\", parse_dates=[\"FEC_EVENT\"]),\n",
    "    pd.read_csv('../input/device_data.zip', parse_dates=[\"FEC_EVENT\"])\n",
    "])"
   ]
  },
  {
   "cell_type": "code",
   "execution_count": 82,
   "metadata": {},
   "outputs": [
    {
     "name": "stdout",
     "output_type": "stream",
     "text": [
      "haciendo CONNECTION_SPEED\n",
      "haciendo CONTENT_CATEGORY\n",
      "haciendo CONTENT_CATEGORY_BOTTOM\n",
      "haciendo CONTENT_CATEGORY_TOP\n",
      "haciendo IS_MOBILE_DEVICE\n",
      "haciendo ON_SITE_SEARCH_TERM\n",
      "haciendo PAGE\n",
      "haciendo SITE_ID\n"
     ]
    }
   ],
   "source": [
    "X_test = []\n",
    "for c in data.drop([\"USER_ID\", \"FEC_EVENT\"], axis=1).columns:\n",
    "    print(\"haciendo\", c)\n",
    "    temp = pd.crosstab(data.USER_ID, data[c])\n",
    "    temp.columns = [c + \"_\" + str(v) for v in temp.columns]\n",
    "    X_test.append(temp.apply(lambda x: x / x.sum(), axis=1))\n",
    "X_test = pd.concat(X_test, axis=1)"
   ]
  },
  {
   "cell_type": "code",
   "execution_count": 83,
   "metadata": {},
   "outputs": [
    {
     "name": "stdout",
     "output_type": "stream",
     "text": [
      "haciendo CONNECTION_SPEED\n",
      "haciendo CONTENT_CATEGORY\n",
      "haciendo CONTENT_CATEGORY_BOTTOM\n",
      "haciendo CONTENT_CATEGORY_TOP\n",
      "haciendo IS_MOBILE_DEVICE\n",
      "haciendo ON_SITE_SEARCH_TERM\n",
      "haciendo PAGE\n",
      "haciendo SITE_ID\n"
     ]
    }
   ],
   "source": [
    "data = data[data.FEC_EVENT.dt.month < 10]\n",
    "X_train = []\n",
    "for c in data.drop([\"USER_ID\", \"FEC_EVENT\"], axis=1).columns:\n",
    "    print(\"haciendo\", c)\n",
    "    temp = pd.crosstab(data.USER_ID, data[c])\n",
    "    temp.columns = [c + \"_\" + str(v) for v in temp.columns]\n",
    "    X_train.append(temp.apply(lambda x: x / x.sum(), axis=1))\n",
    "X_train = pd.concat(X_train, axis=1)"
   ]
  },
  {
   "cell_type": "code",
   "execution_count": 84,
   "metadata": {},
   "outputs": [],
   "source": [
    "features = list(set(X_train.columns).intersection(set(X_test.columns)))\n",
    "X_train = X_train[features]\n",
    "X_test = X_test[features]"
   ]
  },
  {
   "cell_type": "code",
   "execution_count": 85,
   "metadata": {},
   "outputs": [],
   "source": [
    "y_prev = pd.read_csv(\"../input/conversiones/conversiones.csv\")\n",
    "y_train = pd.Series(0, index=X_train.index)\n",
    "idx = (\n",
    "    set(y_prev[y_prev.mes >= 10].USER_ID.unique())\n",
    "    .intersection(set(X_train.index))\n",
    ")\n",
    "y_train.loc[list(idx)] = 1"
   ]
  },
  {
   "cell_type": "code",
   "execution_count": 86,
   "metadata": {},
   "outputs": [],
   "source": [
    "y_test = pd.Series(0,index=X_test.index)\n",
    "idx_test = set(y_prev.USER_ID.unique()).intersection(set(X_test.index))\n",
    "y_test.loc[idx_test] = 1"
   ]
  },
  {
   "cell_type": "code",
   "execution_count": 118,
   "metadata": {},
   "outputs": [],
   "source": [
    "X_test= X_test.astype('float32')\n",
    "X_train=X_train.astype('float32')"
   ]
  },
  {
   "cell_type": "code",
   "execution_count": 118,
   "metadata": {},
   "outputs": [],
   "source": [
    "# ExtraTreesClassifier?"
   ]
  },
  {
   "cell_type": "code",
   "execution_count": 143,
   "metadata": {},
   "outputs": [
    {
     "data": {
      "text/plain": [
       "IS_MOBILE_DEVICE_0.0    True\n",
       "CONNECTION_SPEED_2.0    True\n",
       "IS_MOBILE_DEVICE_1.0    True\n",
       "CONNECTION_SPEED_0.0    True\n",
       "CONNECTION_SPEED_3.0    True\n",
       "CONNECTION_SPEED_1.0    True\n",
       "dtype: bool"
      ]
     },
     "execution_count": 143,
     "metadata": {},
     "output_type": "execute_result"
    }
   ],
   "source": [
    "# me fijo las columnas con nan\n",
    "cols_with_nans = pd.concat(\n",
    "    [\n",
    "        df.apply(lambda df: df.isna().any(axis=0)).loc[lambda d: d==True] for df in [X_train, X_test]\n",
    "    ]\n",
    ")\n",
    "cols_with_nans"
   ]
  },
  {
   "cell_type": "code",
   "execution_count": 164,
   "metadata": {},
   "outputs": [
    {
     "data": {
      "text/html": [
       "<div>\n",
       "<style scoped>\n",
       "    .dataframe tbody tr th:only-of-type {\n",
       "        vertical-align: middle;\n",
       "    }\n",
       "\n",
       "    .dataframe tbody tr th {\n",
       "        vertical-align: top;\n",
       "    }\n",
       "\n",
       "    .dataframe thead th {\n",
       "        text-align: right;\n",
       "    }\n",
       "</style>\n",
       "<table border=\"1\" class=\"dataframe\">\n",
       "  <thead>\n",
       "    <tr style=\"text-align: right;\">\n",
       "      <th></th>\n",
       "      <th>IS_MOBILE_DEVICE_0.0</th>\n",
       "      <th>CONNECTION_SPEED_2.0</th>\n",
       "      <th>IS_MOBILE_DEVICE_1.0</th>\n",
       "      <th>CONNECTION_SPEED_0.0</th>\n",
       "      <th>CONNECTION_SPEED_3.0</th>\n",
       "      <th>CONNECTION_SPEED_1.0</th>\n",
       "    </tr>\n",
       "    <tr>\n",
       "      <th>USER_ID</th>\n",
       "      <th></th>\n",
       "      <th></th>\n",
       "      <th></th>\n",
       "      <th></th>\n",
       "      <th></th>\n",
       "      <th></th>\n",
       "    </tr>\n",
       "  </thead>\n",
       "  <tbody>\n",
       "    <tr>\n",
       "      <td>10885.0</td>\n",
       "      <td>NaN</td>\n",
       "      <td>NaN</td>\n",
       "      <td>NaN</td>\n",
       "      <td>NaN</td>\n",
       "      <td>NaN</td>\n",
       "      <td>NaN</td>\n",
       "    </tr>\n",
       "  </tbody>\n",
       "</table>\n",
       "</div>"
      ],
      "text/plain": [
       "         IS_MOBILE_DEVICE_0.0  CONNECTION_SPEED_2.0  IS_MOBILE_DEVICE_1.0  \\\n",
       "USER_ID                                                                     \n",
       "10885.0                   NaN                   NaN                   NaN   \n",
       "\n",
       "         CONNECTION_SPEED_0.0  CONNECTION_SPEED_3.0  CONNECTION_SPEED_1.0  \n",
       "USER_ID                                                                    \n",
       "10885.0                   NaN                   NaN                   NaN  "
      ]
     },
     "execution_count": 164,
     "metadata": {},
     "output_type": "execute_result"
    }
   ],
   "source": [
    "# me fijo cuales rows de train y test tienen valores nan\n",
    "pd.concat([X_train,X_test]).loc[pd.concat([X_train,X_test])[cols_with_nans.index].isna().any(axis=1), cols_with_nans.index]"
   ]
  },
  {
   "cell_type": "code",
   "execution_count": 184,
   "metadata": {},
   "outputs": [
    {
     "data": {
      "text/plain": [
       "<matplotlib.axes._subplots.AxesSubplot at 0x7f2eb64c1390>"
      ]
     },
     "execution_count": 184,
     "metadata": {},
     "output_type": "execute_result"
    },
    {
     "data": {
      "image/png": "[encoded data removed]",
      "text/plain": [
       "<Figure size 864x576 with 1 Axes>"
      ]
     },
     "metadata": {
      "needs_background": "light"
     },
     "output_type": "display_data"
    }
   ],
   "source": [
    "# veo la media de esos valores\n",
    "plt.figure(figsize=(12,8))\n",
    "\n",
    "sns.violinplot(data=X_train.loc[:,cols_with_nans.index], orient='h')\n",
    "sns.boxplot(data=X_train.loc[:,cols_with_nans.index], orient='h')"
   ]
  },
  {
   "cell_type": "code",
   "execution_count": 188,
   "metadata": {},
   "outputs": [],
   "source": [
    "X_train.loc[:,cols_with_nans.index].plot.hist(subplots=True, figsize=(10,12))"
   ]
  },
  {
   "cell_type": "code",
   "execution_count": 193,
   "metadata": {},
   "outputs": [],
   "source": [
    "# es un solo dato, llenamos con la media\n",
    "# from sklearn.impute import SimpleImputer\n",
    "# imputer = SimpleImputer(strategy='mean')\n",
    "# imputer.fit_transform(X_train)\n",
    "\n",
    "X_train = X_train.fillna(X_train.mean())"
   ]
  },
  {
   "cell_type": "code",
   "execution_count": 194,
   "metadata": {},
   "outputs": [],
   "source": [
    "from xgboost import XGBClassifier\n",
    "from sklearn.ensemble import RandomForestClassifier\n",
    "from lightgbm import LGBMClassifier\n",
    "\n",
    "# candidatos = [{\n",
    "#     \"learner\": LGBMClassifier,\n",
    "#     \"param_grid\": model_selection.ParameterGrid({\n",
    "#            \"n_estimators\": [10000],\n",
    "#            \"num_leaves\": [200, 30, 40],\n",
    "#            \"max_depth\": [-1, 3, 5, 10],\n",
    "#            \"min_child_samples\": [100, 20],\n",
    "#     }),\n",
    "#     \"train_params\": {\n",
    "#         \"early_stopping_rounds\": 10,\n",
    "#         \"eval_metric\": \"auc\", \n",
    "#         \"eval_set\": True,\n",
    "#         \"verbose\": 25\n",
    "#     } \n",
    "# }, {\n",
    "#     \"learner\": ExtraTreesClassifier,\n",
    "#     \"param_grid\": model_selection.ParameterGrid({\n",
    "#            \"n_estimators\": [1000],\n",
    "#            \"min_samples_leaf\": [10, 20, 40, 100],\n",
    "#     })\n",
    "# }]\n",
    "\n",
    "candidatos = [\n",
    "{\n",
    "    \"learner\": LGBMClassifier,\n",
    "    \"param_grid\": model_selection.ParameterGrid({\n",
    "           \"n_estimators\": [10000],\n",
    "           \"num_leaves\": [200],\n",
    "           \"max_depth\": [3],\n",
    "           \"min_child_samples\": [100],\n",
    "    }),\n",
    "    \"train_params\": {\n",
    "        \"early_stopping_rounds\": 10,\n",
    "        \"eval_metric\": \"auc\", \n",
    "        \"eval_set\": True,\n",
    "        #\"verbose\": 25\n",
    "    } \n",
    "},\n",
    "{\n",
    "    \"learner\": XGBClassifier,\n",
    "    \"param_grid\": model_selection.ParameterGrid({\n",
    "        'min_child_weight': [0.8],\n",
    "        'gamma': [0],#[0.5, 1, 1.5, 2, 5],\n",
    "        'subsample': [0.8],#[0.6, 0.8, 1.0],\n",
    "        'colsample_bytree': [0.6],#[0.6, 0.8, 1.0],\n",
    "        'max_depth': [4],\n",
    "        \"learning_rate\":[0.1],\n",
    "        \"n_estimators\":[10000],\n",
    "        #'max_leaves':[200]\n",
    "        #\"lambda\":[1],\n",
    "        #\"alpha\":[0]\n",
    "    }),\n",
    "     \"train_params\": {\n",
    "        \"early_stopping_rounds\": 10,\n",
    "        \"eval_metric\": \"auc\", \n",
    "        \"eval_set\": True,\n",
    "        #\"verbose\": 3,\n",
    "        #\"tree_method\":\"hist\",\n",
    "    } \n",
    "},\n",
    "{\n",
    "    \"learner\": RandomForestClassifier,\n",
    "    \"param_grid\": model_selection.ParameterGrid({\n",
    "        'max_depth': [4],\n",
    "        \"n_estimators\":[600],\n",
    "        #\"verbose\": [2],\n",
    "    }),\n",
    "     \"train_params\": {\n",
    "    } \n",
    "}\n",
    "]"
   ]
  },
  {
   "cell_type": "code",
   "execution_count": 195,
   "metadata": {},
   "outputs": [],
   "source": [
    "folds = list(model_selection.KFold(n_splits=3, shuffle=True, random_state=7).split(X_train))\n",
    "#folds = list(model_selection.StratifiedKFold(n_splits=3, shuffle=True).split(X_train, y_train))\n"
   ]
  },
  {
   "cell_type": "code",
   "execution_count": 196,
   "metadata": {},
   "outputs": [],
   "source": [
    "dt_now = str(np.datetime64('now'))\n",
    "res = []\n",
    "bestRes = 0\n",
    "# tiene label de los anteriores a octubre\n",
    "bestProbs = y_train\n",
    "acumProbs = []\n",
    "fi = [] # podemos usar como explicación\n",
    "\n",
    "for candidate in candidatos:\n",
    "    for paramIndex, params in zip(range(len(candidate[\"param_grid\"])), candidate[\"param_grid\"]):\n",
    "        trainParams = candidate.get(\"train_params\", {})\n",
    "        valid_probs = []\n",
    "        test_probs = []\n",
    "        \n",
    "        print(f\"Start training {candidate['learner'].__name__} - index {paramIndex}\")\n",
    "              \n",
    "        for i, (train_idx, valid_idx) in enumerate(folds):\n",
    "            Xt = X_train.iloc[train_idx]\n",
    "            yt = y_train.loc[X_train.index].iloc[train_idx]\n",
    "\n",
    "            Xv = X_train.iloc[valid_idx]\n",
    "            yv = y_train.loc[X_train.index].iloc[valid_idx]\n",
    "            \n",
    "            if \"eval_set\" in trainParams:\n",
    "                trainParams[\"eval_set\"] = [(Xt, yt), (Xv, yv)]\n",
    "            \n",
    "            learner = candidate[\"learner\"](**params)\n",
    "            \n",
    "            learner.fit(Xt, yt, **trainParams)\n",
    "\n",
    "            # por cada xv (ejemplos no vistos) se agrega su probabilidad de cross_validation\n",
    "            valid_probs.append(\n",
    "                pd.Series(\n",
    "                    learner.predict_proba(Xv)[:, -1], \n",
    "                    index=Xv.index, \n",
    "                    name=\"SCORE\")\n",
    "            )\n",
    "            \n",
    "            # probabilidad del dataset completo con el fit [(Xt, yt), (Xv, yv)]\n",
    "            ypred = learner.predict_proba(X_test)[:, -1]\n",
    "            test_probs.append(\n",
    "                pd.Series(\n",
    "                    ypred,\n",
    "                    index=X_test.index, \n",
    "                    name=f\"clf_{candidate['learner'].__name__}_{paramIndex}_fold_{i}\"\n",
    "                )\n",
    "            )\n",
    "            \n",
    "            fi.append(\n",
    "                pd.Series(\n",
    "                    learner.feature_importances_ / learner.feature_importances_.sum(), \n",
    "                    index=Xt.columns,\n",
    "                    name=f\"clf_{candidate['learner'].__name__}_{paramIndex}_fold_{i}\"\n",
    "                )\n",
    "            )\n",
    "        \n",
    "        valid_probs = pd.concat(valid_probs)\n",
    "        \n",
    "        acumProbs.extend(test_probs)\n",
    "        \n",
    "        # para los valores anteriores a octubre que no fueron vistos en cross_validation\n",
    "        cres = roc_auc_score(y_train, valid_probs.loc[y_train.index])\n",
    "        \n",
    "        # para el dataset completo\n",
    "        cres_test = roc_auc_score(y_test, learner.predict_proba(X_test)[:, -1])\n",
    "        \n",
    "        cols = [\"learner\"]\n",
    "        vals = [candidate[\"learner\"].__name__]\n",
    "        \n",
    "        for p in params:\n",
    "            cols.append(\"param_\" + p)\n",
    "            vals.append(params[p])\n",
    "                \n",
    "        cols.append(\"score val\")\n",
    "        vals.append(cres)\n",
    "        \n",
    "        cols.append(\"score test\")\n",
    "        vals.append(cres_test)\n",
    "        \n",
    "        res.append(pd.DataFrame([vals], columns=cols))\n",
    "        \n",
    "        print(\"*\"*20)\n",
    "        print(pd.concat(res))\n",
    "        print(\"*\"*20)\n",
    "        \n",
    "        if cres > bestRes:\n",
    "            test_probs = pd.concat(test_probs, axis=1, sort=False).mean(axis=1)\n",
    "            test_probs.index.name=\"USER_ID\"\n",
    "            test_probs.name=\"SCORE\"\n",
    "            bestProbs = test_probs\n",
    "            bestRes = cres\n",
    "        \n",
    "        print(f\"Start training {candidate['learner'].__name__} - index {paramIndex}\")"
   ]
  },
  {
   "cell_type": "code",
   "execution_count": 261,
   "metadata": {},
   "outputs": [],
   "source": [
    "bestProbs.index = bestProbs.index.astype('int32')\n",
    "bestProbs.to_csv(f\"../output/benchmark-{dt_now}.csv\", header=True)"
   ]
  },
  {
   "cell_type": "code",
   "execution_count": 253,
   "metadata": {},
   "outputs": [
    {
     "data": {
      "text/html": [
       "<div>\n",
       "<style scoped>\n",
       "    .dataframe tbody tr th:only-of-type {\n",
       "        vertical-align: middle;\n",
       "    }\n",
       "\n",
       "    .dataframe tbody tr th {\n",
       "        vertical-align: top;\n",
       "    }\n",
       "\n",
       "    .dataframe thead th {\n",
       "        text-align: right;\n",
       "    }\n",
       "</style>\n",
       "<table border=\"1\" class=\"dataframe\">\n",
       "  <thead>\n",
       "    <tr style=\"text-align: right;\">\n",
       "      <th></th>\n",
       "      <th>learner</th>\n",
       "      <th>score val</th>\n",
       "      <th>score test</th>\n",
       "    </tr>\n",
       "  </thead>\n",
       "  <tbody>\n",
       "    <tr>\n",
       "      <td>0</td>\n",
       "      <td>XGBClassifier</td>\n",
       "      <td>0.848988</td>\n",
       "      <td>0.957035</td>\n",
       "    </tr>\n",
       "    <tr>\n",
       "      <td>0</td>\n",
       "      <td>LGBMClassifier</td>\n",
       "      <td>0.844285</td>\n",
       "      <td>0.964080</td>\n",
       "    </tr>\n",
       "    <tr>\n",
       "      <td>0</td>\n",
       "      <td>RandomForestClassifier</td>\n",
       "      <td>0.843249</td>\n",
       "      <td>0.970786</td>\n",
       "    </tr>\n",
       "  </tbody>\n",
       "</table>\n",
       "</div>"
      ],
      "text/plain": [
       "                  learner  score val  score test\n",
       "0           XGBClassifier   0.848988    0.957035\n",
       "0          LGBMClassifier   0.844285    0.964080\n",
       "0  RandomForestClassifier   0.843249    0.970786"
      ]
     },
     "execution_count": 253,
     "metadata": {},
     "output_type": "execute_result"
    }
   ],
   "source": [
    "pd.concat(res,sort=False).sort_values(\"score val\", ascending=False)[[\"learner\",\"score val\", \"score test\"]]"
   ]
  },
  {
   "cell_type": "code",
   "execution_count": 198,
   "metadata": {},
   "outputs": [],
   "source": [
    "ypred_lgb = pd.concat(acumProbs,axis=1).iloc[:,0:3].mean(axis=1)\n",
    "ypred_xgb = pd.concat(acumProbs,axis=1).iloc[:,3:6].mean(axis=1)\n",
    "ypred_rf = pd.concat(acumProbs,axis=1).iloc[:,6:9].mean(axis=1)"
   ]
  },
  {
   "cell_type": "code",
   "execution_count": 199,
   "metadata": {},
   "outputs": [
    {
     "data": {
      "text/plain": [
       "(0.9635698659390615, 0.9597870224002977, 0.9706739740225412)"
      ]
     },
     "execution_count": 199,
     "metadata": {},
     "output_type": "execute_result"
    }
   ],
   "source": [
    "roc_auc_score(y_test,ypred_lgb), roc_auc_score(y_test,ypred_xgb), roc_auc_score(y_test,ypred_rf)"
   ]
  },
  {
   "cell_type": "code",
   "execution_count": 206,
   "metadata": {},
   "outputs": [],
   "source": [
    "pd.concat(acumProbs,axis=1).to_csv(f'../output/bench_all_{dt_now}.csv', header=True)"
   ]
  },
  {
   "cell_type": "code",
   "execution_count": 205,
   "metadata": {},
   "outputs": [],
   "source": [
    "pd.concat(fi, axis=1).to_csv(f'../output/fi_all_{dt_now}.csv', header=True)"
   ]
  },
  {
   "cell_type": "code",
   "execution_count": 250,
   "metadata": {},
   "outputs": [
    {
     "data": {
      "image/png": "[encoded data removed]",
      "text/plain": [
       "<Figure size 864x576 with 3 Axes>"
      ]
     },
     "metadata": {
      "needs_background": "light"
     },
     "output_type": "display_data"
    }
   ],
   "source": [
    "fig, (ax0, ax1, ax2) = plt.subplots(3,1)\n",
    "ranges = [[\"lgt\",0,3, ax0], [\"xgb\",3,6, ax1], [\"rf\",6,9, ax2]]\n",
    "\n",
    "for name, ini, fin, ax in ranges:\n",
    "    \n",
    "    means = pd.concat(fi,axis=1).iloc[:,ini:fin].mean(axis=1).sort_values(ascending=False).iloc[0:10]\n",
    "    stds = pd.concat(fi,axis=1).iloc[:,ini:fin].std(axis=1)[means.index]\n",
    "    \n",
    "    means.plot.barh(xerr=stds, figsize=(12,8), align='center', ax=ax, title=name)\n",
    "    #sns.barplot(data=means)\n",
    "plt.tight_layout()\n"
   ]
  },
  {
   "cell_type": "code",
   "execution_count": 264,
   "metadata": {},
   "outputs": [],
   "source": [
    "# ypred_lgb.index = ypred_lgb.index.astype('int32')\n",
    "# ypred_lgb.name=\"SCORE\"\n",
    "# ypred_lgb.to_csv(f\"../output/benchmark-lgb-{dt_now}.csv\", header=True)"
   ]
  },
  {
   "cell_type": "code",
   "execution_count": 272,
   "metadata": {},
   "outputs": [
    {
     "name": "stdout",
     "output_type": "stream",
     "text": [
      "[0]\tvalidation_0-auc:0.806849\n",
      "Will train until validation_0-auc hasn't improved in 12 rounds.\n",
      "[1]\tvalidation_0-auc:0.822373\n",
      "[2]\tvalidation_0-auc:0.822032\n",
      "[3]\tvalidation_0-auc:0.821669\n",
      "[4]\tvalidation_0-auc:0.821083\n",
      "[5]\tvalidation_0-auc:0.824186\n",
      "[6]\tvalidation_0-auc:0.823519\n",
      "[7]\tvalidation_0-auc:0.823429\n",
      "[8]\tvalidation_0-auc:0.823916\n",
      "[9]\tvalidation_0-auc:0.824246\n",
      "[10]\tvalidation_0-auc:0.823931\n",
      "[11]\tvalidation_0-auc:0.823967\n",
      "[12]\tvalidation_0-auc:0.823882\n",
      "[13]\tvalidation_0-auc:0.824003\n",
      "[14]\tvalidation_0-auc:0.82366\n",
      "[15]\tvalidation_0-auc:0.823129\n",
      "[16]\tvalidation_0-auc:0.82285\n",
      "[17]\tvalidation_0-auc:0.821639\n",
      "[18]\tvalidation_0-auc:0.821244\n",
      "[19]\tvalidation_0-auc:0.821068\n",
      "[20]\tvalidation_0-auc:0.820687\n",
      "[21]\tvalidation_0-auc:0.820345\n",
      "Stopping. Best iteration:\n",
      "[9]\tvalidation_0-auc:0.824246\n",
      "\n"
     ]
    },
    {
     "data": {
      "text/plain": [
       "XGBClassifier(base_score=0.5, booster='gbtree', colsample_bylevel=1,\n",
       "              colsample_bynode=1, colsample_bytree=0.6, gamma=0,\n",
       "              learning_rate=0.1, max_delta_step=0, max_depth=4,\n",
       "              min_child_weight=0.8, missing=None, n_estimators=10000, n_jobs=1,\n",
       "              nthread=None, objective='binary:logistic', random_state=0,\n",
       "              reg_alpha=0, reg_lambda=1, scale_pos_weight=1, seed=None,\n",
       "              silent=None, subsample=0.8, verbosity=1)"
      ]
     },
     "execution_count": 272,
     "metadata": {},
     "output_type": "execute_result"
    }
   ],
   "source": [
    "trainer =  {\n",
    "    \"learner\": XGBClassifier,\n",
    "    \"param_grid\": {\n",
    "        'min_child_weight': 0.8,\n",
    "        'gamma': 0,#[0.5, 1, 1.5, 2, 5],\n",
    "        'subsample': 0.8,#[0.6, 0.8, 1.0],\n",
    "        'colsample_bytree': 0.6,#[0.6, 0.8, 1.0],\n",
    "        'max_depth': 4,\n",
    "        \"learning_rate\":0.1,\n",
    "        \"n_estimators\":10000,\n",
    "        #'max_leaves':[200]\n",
    "        #\"lambda\":[1],\n",
    "        #\"alpha\":[0]\n",
    "    },\n",
    "     \"train_params\": {\n",
    "        \"early_stopping_rounds\": 12,\n",
    "        \"eval_metric\": \"auc\", \n",
    "        \"eval_set\": [(X_train, y_train)],\n",
    "        #\"verbose\": 3,\n",
    "        #\"tree_method\":\"hist\",\n",
    "    } \n",
    "}\n",
    "\n",
    "model = trainer[\"learner\"](**trainer[\"param_grid\"])\n",
    "model.fit(X_test, y_test,  **trainer[\"train_params\"])\n"
   ]
  },
  {
   "cell_type": "code",
   "execution_count": 274,
   "metadata": {},
   "outputs": [
    {
     "data": {
      "text/plain": [
       "0.9968197263828241"
      ]
     },
     "execution_count": 274,
     "metadata": {},
     "output_type": "execute_result"
    }
   ],
   "source": [
    "roc_auc_score(y_test, model.predict_proba(X_test)[:,-1])"
   ]
  },
  {
   "cell_type": "code",
   "execution_count": 278,
   "metadata": {},
   "outputs": [],
   "source": [
    "predictions = pd.Series(\n",
    " model.predict_proba(X_test)[:,-1],\n",
    "    index=X_test.index.astype('int32'),\n",
    "    name=\"SCORE\")\n"
   ]
  },
  {
   "cell_type": "code",
   "execution_count": 280,
   "metadata": {},
   "outputs": [],
   "source": [
    "predictions.to_csv(f\"../output/submition-xgb-{dt_now}.csv\", header=True)"
   ]
  },
  {
   "cell_type": "code",
   "execution_count": null,
   "metadata": {},
   "outputs": [],
   "source": []
  }
 ],
 "metadata": {
  "kernelspec": {
   "display_name": "Python 3",
   "language": "python",
   "name": "python3"
  },
  "language_info": {
   "codemirror_mode": {
    "name": "ipython",
    "version": 3
   },
   "file_extension": ".py",
   "mimetype": "text/x-python",
   "name": "python",
   "nbconvert_exporter": "python",
   "pygments_lexer": "ipython3",
   "version": "3.6.8"
  }
 },
 "nbformat": 4,
 "nbformat_minor": 2
}
